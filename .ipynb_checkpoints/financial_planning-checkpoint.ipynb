{
 "cells": [
  {
   "cell_type": "markdown",
   "metadata": {},
   "source": [
    "# Unit 5 - Financial Planning"
   ]
  },
  {
   "cell_type": "code",
   "execution_count": 1,
   "metadata": {},
   "outputs": [],
   "source": [
    "# Initial imports\n",
    "import os\n",
    "import requests\n",
    "import pandas as pd\n",
    "from dotenv import load_dotenv\n",
    "import alpaca_trade_api as tradeapi\n",
    "from MCForecastTools import MCSimulation\n",
    "\n",
    "%matplotlib inline"
   ]
  },
  {
   "cell_type": "code",
   "execution_count": 2,
   "metadata": {},
   "outputs": [
    {
     "data": {
      "text/plain": [
       "True"
      ]
     },
     "execution_count": 2,
     "metadata": {},
     "output_type": "execute_result"
    }
   ],
   "source": [
    "# Load .env enviroment variables\n",
    "load_dotenv()"
   ]
  },
  {
   "cell_type": "markdown",
   "metadata": {},
   "source": [
    "## Part 1 - Personal Finance Planner"
   ]
  },
  {
   "cell_type": "markdown",
   "metadata": {},
   "source": [
    "### Collect Crypto Prices Using the `requests` Library"
   ]
  },
  {
   "cell_type": "code",
   "execution_count": 3,
   "metadata": {},
   "outputs": [],
   "source": [
    "# Set current amount of crypto assets\n",
    "my_btc = 1.2\n",
    "my_eth = 5.3"
   ]
  },
  {
   "cell_type": "code",
   "execution_count": 4,
   "metadata": {},
   "outputs": [],
   "source": [
    "# Crypto API URLs\n",
    "btc_url = \"https://api.alternative.me/v2/ticker/Bitcoin/?convert=CAD\"\n",
    "eth_url = \"https://api.alternative.me/v2/ticker/Ethereum/?convert=CAD\""
   ]
  },
  {
   "cell_type": "code",
   "execution_count": 5,
   "metadata": {},
   "outputs": [
    {
     "name": "stdout",
     "output_type": "stream",
     "text": [
      "<Response [200]>\n",
      "<Response [200]>\n",
      "{\n",
      "    \"data\": {\n",
      "        \"1\": {\n",
      "            \"id\": 1,\n",
      "            \"name\": \"Bitcoin\",\n",
      "            \"symbol\": \"BTC\",\n",
      "            \"website_slug\": \"bitcoin\",\n",
      "            \"rank\": 1,\n",
      "            \"circulating_supply\": 18521062,\n",
      "            \"total_supply\": 18521062,\n",
      "            \"max_supply\": 21000000,\n",
      "            \"quotes\": {\n",
      "                \"USD\": {\n",
      "                    \"price\": 11450.86,\n",
      "                    \"volume_24h\": 15561381723,\n",
      "                    \"market_cap\": 212200898142,\n",
      "                    \"percentage_change_1h\": -0.167426105965761,\n",
      "                    \"percentage_change_24h\": 0.69686895463809,\n",
      "                    \"percentage_change_7d\": 0.641971040731392,\n",
      "                    \"percent_change_1h\": -0.167426105965761,\n",
      "                    \"percent_change_24h\": 0.69686895463809,\n",
      "                    \"percent_change_7d\": 0.641971040731392\n",
      "                },\n",
      "                \"CAD\": {\n",
      "                    \"price\": 15087.653136,\n",
      "                    \"volume_24h\": 20503676558.2248,\n",
      "                    \"market_cap\": 279595903391.899,\n",
      "                    \"percent_change_1h\": -0.167426105965761,\n",
      "                    \"percent_change_24h\": 0.69686895463809,\n",
      "                    \"percent_change_7d\": 0.641971040731392\n",
      "                }\n",
      "            },\n",
      "            \"last_updated\": 1603074785\n",
      "        }\n",
      "    },\n",
      "    \"metadata\": {\n",
      "        \"timestamp\": 1603074785,\n",
      "        \"num_cryptocurrencies\": 1432,\n",
      "        \"error\": null\n",
      "    }\n",
      "}\n",
      "\n",
      "{\n",
      "    \"data\": {\n",
      "        \"1027\": {\n",
      "            \"id\": 1027,\n",
      "            \"name\": \"Ethereum\",\n",
      "            \"symbol\": \"ETH\",\n",
      "            \"website_slug\": \"ethereum\",\n",
      "            \"rank\": 2,\n",
      "            \"circulating_supply\": 113064356,\n",
      "            \"total_supply\": 113064356,\n",
      "            \"max_supply\": 0,\n",
      "            \"quotes\": {\n",
      "                \"USD\": {\n",
      "                    \"price\": 375.04,\n",
      "                    \"volume_24h\": 8585264675,\n",
      "                    \"market_cap\": 42422144029,\n",
      "                    \"percentage_change_1h\": -0.183821187554904,\n",
      "                    \"percentage_change_24h\": 1.65431498971736,\n",
      "                    \"percentage_change_7d\": 0.144197701775491,\n",
      "                    \"percent_change_1h\": -0.183821187554904,\n",
      "                    \"percent_change_24h\": 1.65431498971736,\n",
      "                    \"percent_change_7d\": 0.144197701775491\n",
      "                },\n",
      "                \"CAD\": {\n",
      "                    \"price\": 494.152704,\n",
      "                    \"volume_24h\": 11311944735.78,\n",
      "                    \"market_cap\": 55895416972.6104,\n",
      "                    \"percent_change_1h\": -0.183821187554904,\n",
      "                    \"percent_change_24h\": 1.65431498971736,\n",
      "                    \"percent_change_7d\": 0.144197701775491\n",
      "                }\n",
      "            },\n",
      "            \"last_updated\": 1603074876\n",
      "        }\n",
      "    },\n",
      "    \"metadata\": {\n",
      "        \"timestamp\": 1603074876,\n",
      "        \"num_cryptocurrencies\": 1432,\n",
      "        \"error\": null\n",
      "    }\n",
      "}\n",
      "11450.86\n",
      "375.04\n",
      "13741.032000000001\n",
      "1987.712\n",
      "The current value of your 1.2 BTC is $13741.03\n",
      "The current value of your 5.3 ETH is $1987.71\n"
     ]
    }
   ],
   "source": [
    "my_btc_value1 = requests.get(btc_url)\n",
    "print(my_btc_value1)\n",
    "my_eth_value1 = requests.get(eth_url)\n",
    "print(my_eth_value1)\n",
    "\n",
    "# my_btc_value_content = my_btc_value1.content\n",
    "# print(my_btc_value_content)\n",
    "\n",
    "# my_eth_value_content = my_eth_value1.content\n",
    "# print(my_eth_value_content)\n",
    "\n",
    "import json\n",
    "data_btc = my_btc_value1.json()\n",
    "print(json.dumps(data_btc, indent=4))\n",
    "print()\n",
    "data_eth = my_eth_value1.json()\n",
    "print(json.dumps(data_eth, indent=4))\n",
    "\n",
    "# Fetch current BTC price\n",
    "current_btc_price = data_btc['data']['1']['quotes']['USD']['price']\n",
    "print(current_btc_price)\n",
    "\n",
    "# Fetch current ETH price\n",
    "current_eth_price = data_eth['data']['1027']['quotes']['USD']['price']\n",
    "print(current_eth_price)\n",
    "\n",
    "# Compute current value of my crpto\n",
    "my_btc_value = current_btc_price * my_btc\n",
    "print(my_btc_value)\n",
    "my_eth_value = current_eth_price * my_eth\n",
    "print(my_eth_value)\n",
    "\n",
    "# Print current crypto wallet balance\n",
    "print(f\"The current value of your {my_btc} BTC is ${my_btc_value:0.2f}\")\n",
    "print(f\"The current value of your {my_eth} ETH is ${my_eth_value:0.2f}\")"
   ]
  },
  {
   "cell_type": "markdown",
   "metadata": {},
   "source": [
    "### Collect Investments Data Using Alpaca: `SPY` (stocks) and `AGG` (bonds)"
   ]
  },
  {
   "cell_type": "code",
   "execution_count": 6,
   "metadata": {},
   "outputs": [
    {
     "data": {
      "text/html": [
       "<div>\n",
       "<style scoped>\n",
       "    .dataframe tbody tr th:only-of-type {\n",
       "        vertical-align: middle;\n",
       "    }\n",
       "\n",
       "    .dataframe tbody tr th {\n",
       "        vertical-align: top;\n",
       "    }\n",
       "\n",
       "    .dataframe thead th {\n",
       "        text-align: right;\n",
       "    }\n",
       "</style>\n",
       "<table border=\"1\" class=\"dataframe\">\n",
       "  <thead>\n",
       "    <tr style=\"text-align: right;\">\n",
       "      <th></th>\n",
       "      <th>shares</th>\n",
       "    </tr>\n",
       "  </thead>\n",
       "  <tbody>\n",
       "    <tr>\n",
       "      <th>my_spy</th>\n",
       "      <td>50</td>\n",
       "    </tr>\n",
       "    <tr>\n",
       "      <th>my_agg</th>\n",
       "      <td>200</td>\n",
       "    </tr>\n",
       "  </tbody>\n",
       "</table>\n",
       "</div>"
      ],
      "text/plain": [
       "        shares\n",
       "my_spy      50\n",
       "my_agg     200"
      ]
     },
     "execution_count": 6,
     "metadata": {},
     "output_type": "execute_result"
    }
   ],
   "source": [
    "# Current amount of shares\n",
    "shares_data = {\n",
    "    \"shares\": [50, 200] }\n",
    "\n",
    "# Set the tickers\n",
    "tickers = [\"my_spy\", \"my_agg\"]\n",
    "\n",
    "# Create the shares DataFrame\n",
    "df_shares = pd.DataFrame(shares_data, index=tickers)\n",
    "\n",
    "# Display shares data\n",
    "df_shares"
   ]
  },
  {
   "cell_type": "code",
   "execution_count": 7,
   "metadata": {},
   "outputs": [
    {
     "name": "stdout",
     "output_type": "stream",
     "text": [
      "Alpaca Key type: <class 'str'>\n",
      "Alpaca Secret Key type: <class 'str'>\n"
     ]
    }
   ],
   "source": [
    "# Set Alpaca API key and secret\n",
    "alpaca_api_key = os.getenv(\"ALPACA_API_KEY\")\n",
    "alpaca_secret_key = os.getenv(\"ALPACA_SECRET_KEY\")\n",
    "\n",
    "# Verify that Alpaca key and secret were correctly loaded\n",
    "print(f\"Alpaca Key type: {type(alpaca_api_key)}\")\n",
    "print(f\"Alpaca Secret Key type: {type(alpaca_secret_key)}\")\n",
    "\n",
    "# Create the Alpaca API object\n",
    "api = tradeapi.REST(\n",
    "    alpaca_api_key,\n",
    "    alpaca_secret_key,\n",
    "    api_version = \"v2\"\n",
    ")"
   ]
  },
  {
   "cell_type": "code",
   "execution_count": 8,
   "metadata": {},
   "outputs": [
    {
     "data": {
      "text/html": [
       "<div>\n",
       "<style scoped>\n",
       "    .dataframe tbody tr th:only-of-type {\n",
       "        vertical-align: middle;\n",
       "    }\n",
       "\n",
       "    .dataframe tbody tr th {\n",
       "        vertical-align: top;\n",
       "    }\n",
       "\n",
       "    .dataframe thead tr th {\n",
       "        text-align: left;\n",
       "    }\n",
       "\n",
       "    .dataframe thead tr:last-of-type th {\n",
       "        text-align: right;\n",
       "    }\n",
       "</style>\n",
       "<table border=\"1\" class=\"dataframe\">\n",
       "  <thead>\n",
       "    <tr>\n",
       "      <th></th>\n",
       "      <th colspan=\"5\" halign=\"left\">AGG</th>\n",
       "      <th colspan=\"5\" halign=\"left\">SPY</th>\n",
       "    </tr>\n",
       "    <tr>\n",
       "      <th></th>\n",
       "      <th>open</th>\n",
       "      <th>high</th>\n",
       "      <th>low</th>\n",
       "      <th>close</th>\n",
       "      <th>volume</th>\n",
       "      <th>open</th>\n",
       "      <th>high</th>\n",
       "      <th>low</th>\n",
       "      <th>close</th>\n",
       "      <th>volume</th>\n",
       "    </tr>\n",
       "    <tr>\n",
       "      <th>time</th>\n",
       "      <th></th>\n",
       "      <th></th>\n",
       "      <th></th>\n",
       "      <th></th>\n",
       "      <th></th>\n",
       "      <th></th>\n",
       "      <th></th>\n",
       "      <th></th>\n",
       "      <th></th>\n",
       "      <th></th>\n",
       "    </tr>\n",
       "  </thead>\n",
       "  <tbody>\n",
       "    <tr>\n",
       "      <th>2020-10-15 00:00:00-04:00</th>\n",
       "      <td>118.15</td>\n",
       "      <td>118.15</td>\n",
       "      <td>117.96</td>\n",
       "      <td>117.97</td>\n",
       "      <td>4977703</td>\n",
       "      <td>343.71</td>\n",
       "      <td>348.02</td>\n",
       "      <td>343.13</td>\n",
       "      <td>347.51</td>\n",
       "      <td>50609035</td>\n",
       "    </tr>\n",
       "  </tbody>\n",
       "</table>\n",
       "</div>"
      ],
      "text/plain": [
       "                              AGG                                      SPY  \\\n",
       "                             open    high     low   close   volume    open   \n",
       "time                                                                         \n",
       "2020-10-15 00:00:00-04:00  118.15  118.15  117.96  117.97  4977703  343.71   \n",
       "\n",
       "                                                             \n",
       "                             high     low   close    volume  \n",
       "time                                                         \n",
       "2020-10-15 00:00:00-04:00  348.02  343.13  347.51  50609035  "
      ]
     },
     "execution_count": 8,
     "metadata": {},
     "output_type": "execute_result"
    }
   ],
   "source": [
    "# Format current date as ISO format\n",
    "today = pd.Timestamp(\"2020-10-15\", tz=\"America/New_York\").isoformat()\n",
    "\n",
    "# Set the tickers\n",
    "tickers = [\"AGG\", \"SPY\"]\n",
    "\n",
    "# Set timeframe to '1D' for Alpaca API\n",
    "timeframe = \"1D\"\n",
    "\n",
    "# Get current closing prices for SPY and AGG\n",
    "df_ticker = api.get_barset(\n",
    "    tickers,\n",
    "    timeframe,\n",
    "    start=today,\n",
    "    end=today\n",
    ").df\n",
    "\n",
    "# Preview DataFrame\n",
    "df_ticker.head()"
   ]
  },
  {
   "cell_type": "code",
   "execution_count": 9,
   "metadata": {},
   "outputs": [
    {
     "data": {
      "text/plain": [
       "AGG  open      float64\n",
       "     high      float64\n",
       "     low       float64\n",
       "     close     float64\n",
       "     volume      int64\n",
       "SPY  open      float64\n",
       "     high      float64\n",
       "     low       float64\n",
       "     close     float64\n",
       "     volume      int64\n",
       "dtype: object"
      ]
     },
     "execution_count": 9,
     "metadata": {},
     "output_type": "execute_result"
    }
   ],
   "source": [
    "df_ticker.dtypes"
   ]
  },
  {
   "cell_type": "code",
   "execution_count": 10,
   "metadata": {},
   "outputs": [
    {
     "name": "stdout",
     "output_type": "stream",
     "text": [
      "\n",
      "\n",
      "Current AGG closing price: $117.97\n",
      "\n",
      "Current SPY closing price: $347.51\n"
     ]
    }
   ],
   "source": [
    "# Pick AGG and SPY close prices\n",
    "agg_close_price = float(df_ticker[\"AGG\"][\"close\"])\n",
    "spy_close_price = float(df_ticker[\"SPY\"][\"close\"])\n",
    "print()\n",
    "print()\n",
    "\n",
    "# Print AGG and SPY close prices\n",
    "print(f\"Current AGG closing price: ${agg_close_price}\")\n",
    "print()\n",
    "print(f\"Current SPY closing price: ${spy_close_price}\")"
   ]
  },
  {
   "cell_type": "code",
   "execution_count": 11,
   "metadata": {},
   "outputs": [
    {
     "name": "stdout",
     "output_type": "stream",
     "text": [
      "50\n",
      "200\n",
      "\n",
      "\n",
      "17375.5\n",
      "23594.0\n",
      "\n",
      "\n",
      "The current value of your 50 SPY shares is $17375.50\n",
      "The current value of your 200 AGG shares is $23594.00\n"
     ]
    }
   ],
   "source": [
    "# Compute the current value of shares\n",
    "my_spy = df_shares.loc[\"my_spy\"][\"shares\"]\n",
    "my_agg = df_shares.loc[\"my_agg\"][\"shares\"]\n",
    "print (my_spy)\n",
    "print(my_agg)\n",
    "\n",
    "print()\n",
    "print()\n",
    "\n",
    "my_spy_value = spy_close_price * df_shares.loc[\"my_spy\"][\"shares\"]\n",
    "my_agg_value = agg_close_price * df_shares.loc[\"my_agg\"][\"shares\"]\n",
    "print(my_spy_value)\n",
    "print(my_agg_value)\n",
    "\n",
    "print()\n",
    "print()\n",
    "\n",
    "# # Print current value of share\n",
    "print(f\"The current value of your {my_spy} SPY shares is ${my_spy_value:0.2f}\")\n",
    "print(f\"The current value of your {my_agg} AGG shares is ${my_agg_value:0.2f}\")"
   ]
  },
  {
   "cell_type": "code",
   "execution_count": 12,
   "metadata": {},
   "outputs": [
    {
     "data": {
      "text/html": [
       "<div>\n",
       "<style scoped>\n",
       "    .dataframe tbody tr th:only-of-type {\n",
       "        vertical-align: middle;\n",
       "    }\n",
       "\n",
       "    .dataframe tbody tr th {\n",
       "        vertical-align: top;\n",
       "    }\n",
       "\n",
       "    .dataframe thead th {\n",
       "        text-align: right;\n",
       "    }\n",
       "</style>\n",
       "<table border=\"1\" class=\"dataframe\">\n",
       "  <thead>\n",
       "    <tr style=\"text-align: right;\">\n",
       "      <th></th>\n",
       "      <th>amount</th>\n",
       "    </tr>\n",
       "  </thead>\n",
       "  <tbody>\n",
       "    <tr>\n",
       "      <th>crypto</th>\n",
       "      <td>15728.744</td>\n",
       "    </tr>\n",
       "    <tr>\n",
       "      <th>shares</th>\n",
       "      <td>40969.500</td>\n",
       "    </tr>\n",
       "  </tbody>\n",
       "</table>\n",
       "</div>"
      ],
      "text/plain": [
       "           amount\n",
       "crypto  15728.744\n",
       "shares  40969.500"
      ]
     },
     "metadata": {},
     "output_type": "display_data"
    }
   ],
   "source": [
    "# Set monthly household income\n",
    "monthly_income = 12000\n",
    "\n",
    "crypto = my_btc_value + my_eth_value\n",
    "shares = my_spy_value + my_agg_value\n",
    "\n",
    "savings = {\"amount\" : [crypto, shares]}\n",
    "\n",
    "# Set the tickers\n",
    "tickers2 = [\"crypto\", \"shares\"]\n",
    "\n",
    "# Create savings DataFrame\n",
    "df_savings = pd.DataFrame(savings, index=tickers2)\n",
    "\n",
    "# Display savings DataFrame\n",
    "display(df_savings)       "
   ]
  },
  {
   "cell_type": "code",
   "execution_count": 13,
   "metadata": {},
   "outputs": [
    {
     "data": {
      "text/plain": [
       "<AxesSubplot:title={'center':'Composition of Personal Savings'}, ylabel='amount'>"
      ]
     },
     "execution_count": 13,
     "metadata": {},
     "output_type": "execute_result"
    },
    {
     "data": {
      "image/png": "[encoded data removed]",
      "text/plain": [
       "<Figure size 432x288 with 1 Axes>"
      ]
     },
     "metadata": {},
     "output_type": "display_data"
    }
   ],
   "source": [
    "# Plot savings pie chart\n",
    "df_savings.plot.pie(y=\"amount\", title = \"Composition of Personal Savings\")"
   ]
  },
  {
   "cell_type": "code",
   "execution_count": 14,
   "metadata": {},
   "outputs": [
    {
     "data": {
      "text/html": [
       "<div>\n",
       "<style scoped>\n",
       "    .dataframe tbody tr th:only-of-type {\n",
       "        vertical-align: middle;\n",
       "    }\n",
       "\n",
       "    .dataframe tbody tr th {\n",
       "        vertical-align: top;\n",
       "    }\n",
       "\n",
       "    .dataframe thead th {\n",
       "        text-align: right;\n",
       "    }\n",
       "</style>\n",
       "<table border=\"1\" class=\"dataframe\">\n",
       "  <thead>\n",
       "    <tr style=\"text-align: right;\">\n",
       "      <th></th>\n",
       "      <th>crypto</th>\n",
       "      <th>shares</th>\n",
       "    </tr>\n",
       "  </thead>\n",
       "  <tbody>\n",
       "    <tr>\n",
       "      <th>0</th>\n",
       "      <td>15728.744</td>\n",
       "      <td>40969.5</td>\n",
       "    </tr>\n",
       "  </tbody>\n",
       "</table>\n",
       "</div>"
      ],
      "text/plain": [
       "      crypto   shares\n",
       "0  15728.744  40969.5"
      ]
     },
     "execution_count": 14,
     "metadata": {},
     "output_type": "execute_result"
    }
   ],
   "source": [
    "# Set the data for the shares value DataFrame\n",
    "value_data = {\n",
    "    \"crypto\": [crypto],\n",
    "    \"shares\": [shares]\n",
    "}\n",
    "\n",
    "# Create a DataFrame with the current value of shares\n",
    "df_value = pd.DataFrame(value_data)\n",
    "\n",
    "# Display DataFrame data\n",
    "df_value"
   ]
  },
  {
   "cell_type": "code",
   "execution_count": 15,
   "metadata": {},
   "outputs": [
    {
     "data": {
      "text/plain": [
       "<AxesSubplot:title={'center':'Current Value in Dollars of Personal Savings'}>"
      ]
     },
     "execution_count": 15,
     "metadata": {},
     "output_type": "execute_result"
    },
    {
     "data": {
      "image/png": "[encoded data removed]",
      "text/plain": [
       "<Figure size 432x288 with 1 Axes>"
      ]
     },
     "metadata": {
      "needs_background": "light"
     },
     "output_type": "display_data"
    }
   ],
   "source": [
    "# Create a bar plot to show the value of shares\n",
    "df_value.plot.bar(title=\"Current Value in Dollars of Personal Savings\")"
   ]
  },
  {
   "cell_type": "code",
   "execution_count": 16,
   "metadata": {},
   "outputs": [
    {
     "name": "stdout",
     "output_type": "stream",
     "text": [
      "36000\n",
      "\n",
      "56698.244\n",
      "\n",
      "Congratulations! You have enough money in your emergency fund\n"
     ]
    }
   ],
   "source": [
    "# Set ideal emergency fund\n",
    "emergency_fund = monthly_income * 3\n",
    "print(emergency_fund)\n",
    "print()\n",
    "\n",
    "# Calculate total amount of savings\n",
    "total_savings = df_savings[\"amount\"].sum()\n",
    "print(total_savings)\n",
    "print()\n",
    "\n",
    "# Validate saving health\n",
    "if total_savings > emergency_fund:\n",
    "    print (\"Congratulations! You have enough money in your emergency fund\")\n",
    "if total_savings == emergency_fund:\n",
    "    print(\"Congratulations! You have reached your financial goal\")\n",
    "if total_savings < emergency_fund:\n",
    "    print (f\"You need to save {emergency_fund - total_savings} more to reach your financial goal\")"
   ]
  },
  {
   "cell_type": "markdown",
   "metadata": {},
   "source": [
    "## Part 2 - Retirement Planning\n",
    "\n",
    "### Monte Carlo Simulation"
   ]
  },
  {
   "cell_type": "code",
   "execution_count": 17,
   "metadata": {},
   "outputs": [],
   "source": [
    "# Set start and end dates of five years back from today.\n",
    "# Sample results may vary from the solution based on the time frame chosen\n",
    "start_date2 = pd.Timestamp('2015-08-07', tz='America/New_York').isoformat()\n",
    "end_date2 = pd.Timestamp('2020-08-07', tz='America/New_York').isoformat()"
   ]
  },
  {
   "cell_type": "code",
   "execution_count": 18,
   "metadata": {},
   "outputs": [
    {
     "data": {
      "text/html": [
       "<div>\n",
       "<style scoped>\n",
       "    .dataframe tbody tr th:only-of-type {\n",
       "        vertical-align: middle;\n",
       "    }\n",
       "\n",
       "    .dataframe tbody tr th {\n",
       "        vertical-align: top;\n",
       "    }\n",
       "\n",
       "    .dataframe thead tr th {\n",
       "        text-align: left;\n",
       "    }\n",
       "\n",
       "    .dataframe thead tr:last-of-type th {\n",
       "        text-align: right;\n",
       "    }\n",
       "</style>\n",
       "<table border=\"1\" class=\"dataframe\">\n",
       "  <thead>\n",
       "    <tr>\n",
       "      <th></th>\n",
       "      <th colspan=\"5\" halign=\"left\">AGG</th>\n",
       "      <th colspan=\"5\" halign=\"left\">SPY</th>\n",
       "    </tr>\n",
       "    <tr>\n",
       "      <th></th>\n",
       "      <th>open</th>\n",
       "      <th>high</th>\n",
       "      <th>low</th>\n",
       "      <th>close</th>\n",
       "      <th>volume</th>\n",
       "      <th>open</th>\n",
       "      <th>high</th>\n",
       "      <th>low</th>\n",
       "      <th>close</th>\n",
       "      <th>volume</th>\n",
       "    </tr>\n",
       "    <tr>\n",
       "      <th>time</th>\n",
       "      <th></th>\n",
       "      <th></th>\n",
       "      <th></th>\n",
       "      <th></th>\n",
       "      <th></th>\n",
       "      <th></th>\n",
       "      <th></th>\n",
       "      <th></th>\n",
       "      <th></th>\n",
       "      <th></th>\n",
       "    </tr>\n",
       "  </thead>\n",
       "  <tbody>\n",
       "    <tr>\n",
       "      <th>2015-08-07 00:00:00-04:00</th>\n",
       "      <td>109.14</td>\n",
       "      <td>109.2750</td>\n",
       "      <td>109.035</td>\n",
       "      <td>109.21</td>\n",
       "      <td>2041167.0</td>\n",
       "      <td>208.16</td>\n",
       "      <td>208.34</td>\n",
       "      <td>206.87</td>\n",
       "      <td>207.93</td>\n",
       "      <td>87669782</td>\n",
       "    </tr>\n",
       "    <tr>\n",
       "      <th>2015-08-10 00:00:00-04:00</th>\n",
       "      <td>109.15</td>\n",
       "      <td>109.1700</td>\n",
       "      <td>108.920</td>\n",
       "      <td>109.06</td>\n",
       "      <td>1149778.0</td>\n",
       "      <td>209.28</td>\n",
       "      <td>210.67</td>\n",
       "      <td>209.28</td>\n",
       "      <td>210.58</td>\n",
       "      <td>66755890</td>\n",
       "    </tr>\n",
       "    <tr>\n",
       "      <th>2015-08-11 00:00:00-04:00</th>\n",
       "      <td>109.42</td>\n",
       "      <td>109.5765</td>\n",
       "      <td>109.284</td>\n",
       "      <td>109.42</td>\n",
       "      <td>1420907.0</td>\n",
       "      <td>208.98</td>\n",
       "      <td>209.47</td>\n",
       "      <td>207.76</td>\n",
       "      <td>208.63</td>\n",
       "      <td>88424557</td>\n",
       "    </tr>\n",
       "    <tr>\n",
       "      <th>2015-08-12 00:00:00-04:00</th>\n",
       "      <td>109.55</td>\n",
       "      <td>109.7100</td>\n",
       "      <td>109.350</td>\n",
       "      <td>109.36</td>\n",
       "      <td>1468979.0</td>\n",
       "      <td>207.11</td>\n",
       "      <td>209.14</td>\n",
       "      <td>205.36</td>\n",
       "      <td>208.89</td>\n",
       "      <td>136171450</td>\n",
       "    </tr>\n",
       "    <tr>\n",
       "      <th>2015-08-13 00:00:00-04:00</th>\n",
       "      <td>109.36</td>\n",
       "      <td>109.3651</td>\n",
       "      <td>109.110</td>\n",
       "      <td>109.15</td>\n",
       "      <td>1465173.0</td>\n",
       "      <td>208.73</td>\n",
       "      <td>209.55</td>\n",
       "      <td>208.01</td>\n",
       "      <td>208.63</td>\n",
       "      <td>77197796</td>\n",
       "    </tr>\n",
       "  </tbody>\n",
       "</table>\n",
       "</div>"
      ],
      "text/plain": [
       "                              AGG                                        \\\n",
       "                             open      high      low   close     volume   \n",
       "time                                                                      \n",
       "2015-08-07 00:00:00-04:00  109.14  109.2750  109.035  109.21  2041167.0   \n",
       "2015-08-10 00:00:00-04:00  109.15  109.1700  108.920  109.06  1149778.0   \n",
       "2015-08-11 00:00:00-04:00  109.42  109.5765  109.284  109.42  1420907.0   \n",
       "2015-08-12 00:00:00-04:00  109.55  109.7100  109.350  109.36  1468979.0   \n",
       "2015-08-13 00:00:00-04:00  109.36  109.3651  109.110  109.15  1465173.0   \n",
       "\n",
       "                              SPY                                     \n",
       "                             open    high     low   close     volume  \n",
       "time                                                                  \n",
       "2015-08-07 00:00:00-04:00  208.16  208.34  206.87  207.93   87669782  \n",
       "2015-08-10 00:00:00-04:00  209.28  210.67  209.28  210.58   66755890  \n",
       "2015-08-11 00:00:00-04:00  208.98  209.47  207.76  208.63   88424557  \n",
       "2015-08-12 00:00:00-04:00  207.11  209.14  205.36  208.89  136171450  \n",
       "2015-08-13 00:00:00-04:00  208.73  209.55  208.01  208.63   77197796  "
      ]
     },
     "execution_count": 18,
     "metadata": {},
     "output_type": "execute_result"
    }
   ],
   "source": [
    "# Set the tickers\n",
    "tickers2 = [\"AGG\", \"SPY\"]\n",
    "\n",
    "# Set timeframe to '1D' for Alpaca API\n",
    "timeframe2 = \"1D\"\n",
    "\n",
    "\n",
    "# Get 5 years' worth of historical data for SPY and AGG\n",
    "df_stock_data = api.get_barset(\n",
    "    tickers2,\n",
    "    timeframe2,\n",
    "    start=start_date2,\n",
    "    end=end_date2\n",
    ").df\n",
    "\n",
    "# Display sample data\n",
    "df_stock_data.head()"
   ]
  },
  {
   "cell_type": "code",
   "execution_count": 19,
   "metadata": {},
   "outputs": [],
   "source": [
    "# Print the documentation of the MCSimulation module of the MCForecastTools library\n",
    "?MCSimulation"
   ]
  },
  {
   "cell_type": "code",
   "execution_count": 20,
   "metadata": {},
   "outputs": [],
   "source": [
    "# Configuring a Monte Carlo simulation to forecast 30 years cumulative returns\n",
    "\n",
    "MC_thirty_year = MCSimulation(\n",
    "    portfolio_data = df_stock_data,\n",
    "    weights = [.40,.60],\n",
    "    num_simulation = 500,\n",
    "    num_trading_days = 252*30\n",
    ")"
   ]
  },
  {
   "cell_type": "code",
   "execution_count": 21,
   "metadata": {},
   "outputs": [
    {
     "data": {
      "text/html": [
       "<div>\n",
       "<style scoped>\n",
       "    .dataframe tbody tr th:only-of-type {\n",
       "        vertical-align: middle;\n",
       "    }\n",
       "\n",
       "    .dataframe tbody tr th {\n",
       "        vertical-align: top;\n",
       "    }\n",
       "\n",
       "    .dataframe thead tr th {\n",
       "        text-align: left;\n",
       "    }\n",
       "\n",
       "    .dataframe thead tr:last-of-type th {\n",
       "        text-align: right;\n",
       "    }\n",
       "</style>\n",
       "<table border=\"1\" class=\"dataframe\">\n",
       "  <thead>\n",
       "    <tr>\n",
       "      <th></th>\n",
       "      <th colspan=\"6\" halign=\"left\">AGG</th>\n",
       "      <th colspan=\"6\" halign=\"left\">SPY</th>\n",
       "    </tr>\n",
       "    <tr>\n",
       "      <th></th>\n",
       "      <th>open</th>\n",
       "      <th>high</th>\n",
       "      <th>low</th>\n",
       "      <th>close</th>\n",
       "      <th>volume</th>\n",
       "      <th>daily_return</th>\n",
       "      <th>open</th>\n",
       "      <th>high</th>\n",
       "      <th>low</th>\n",
       "      <th>close</th>\n",
       "      <th>volume</th>\n",
       "      <th>daily_return</th>\n",
       "    </tr>\n",
       "    <tr>\n",
       "      <th>time</th>\n",
       "      <th></th>\n",
       "      <th></th>\n",
       "      <th></th>\n",
       "      <th></th>\n",
       "      <th></th>\n",
       "      <th></th>\n",
       "      <th></th>\n",
       "      <th></th>\n",
       "      <th></th>\n",
       "      <th></th>\n",
       "      <th></th>\n",
       "      <th></th>\n",
       "    </tr>\n",
       "  </thead>\n",
       "  <tbody>\n",
       "    <tr>\n",
       "      <th>2015-08-07 00:00:00-04:00</th>\n",
       "      <td>109.14</td>\n",
       "      <td>109.2750</td>\n",
       "      <td>109.035</td>\n",
       "      <td>109.21</td>\n",
       "      <td>2041167.0</td>\n",
       "      <td>NaN</td>\n",
       "      <td>208.16</td>\n",
       "      <td>208.34</td>\n",
       "      <td>206.87</td>\n",
       "      <td>207.93</td>\n",
       "      <td>87669782</td>\n",
       "      <td>NaN</td>\n",
       "    </tr>\n",
       "    <tr>\n",
       "      <th>2015-08-10 00:00:00-04:00</th>\n",
       "      <td>109.15</td>\n",
       "      <td>109.1700</td>\n",
       "      <td>108.920</td>\n",
       "      <td>109.06</td>\n",
       "      <td>1149778.0</td>\n",
       "      <td>-0.001374</td>\n",
       "      <td>209.28</td>\n",
       "      <td>210.67</td>\n",
       "      <td>209.28</td>\n",
       "      <td>210.58</td>\n",
       "      <td>66755890</td>\n",
       "      <td>0.012745</td>\n",
       "    </tr>\n",
       "    <tr>\n",
       "      <th>2015-08-11 00:00:00-04:00</th>\n",
       "      <td>109.42</td>\n",
       "      <td>109.5765</td>\n",
       "      <td>109.284</td>\n",
       "      <td>109.42</td>\n",
       "      <td>1420907.0</td>\n",
       "      <td>0.003301</td>\n",
       "      <td>208.98</td>\n",
       "      <td>209.47</td>\n",
       "      <td>207.76</td>\n",
       "      <td>208.63</td>\n",
       "      <td>88424557</td>\n",
       "      <td>-0.009260</td>\n",
       "    </tr>\n",
       "    <tr>\n",
       "      <th>2015-08-12 00:00:00-04:00</th>\n",
       "      <td>109.55</td>\n",
       "      <td>109.7100</td>\n",
       "      <td>109.350</td>\n",
       "      <td>109.36</td>\n",
       "      <td>1468979.0</td>\n",
       "      <td>-0.000548</td>\n",
       "      <td>207.11</td>\n",
       "      <td>209.14</td>\n",
       "      <td>205.36</td>\n",
       "      <td>208.89</td>\n",
       "      <td>136171450</td>\n",
       "      <td>0.001246</td>\n",
       "    </tr>\n",
       "    <tr>\n",
       "      <th>2015-08-13 00:00:00-04:00</th>\n",
       "      <td>109.36</td>\n",
       "      <td>109.3651</td>\n",
       "      <td>109.110</td>\n",
       "      <td>109.15</td>\n",
       "      <td>1465173.0</td>\n",
       "      <td>-0.001920</td>\n",
       "      <td>208.73</td>\n",
       "      <td>209.55</td>\n",
       "      <td>208.01</td>\n",
       "      <td>208.63</td>\n",
       "      <td>77197796</td>\n",
       "      <td>-0.001245</td>\n",
       "    </tr>\n",
       "  </tbody>\n",
       "</table>\n",
       "</div>"
      ],
      "text/plain": [
       "                              AGG                                        \\\n",
       "                             open      high      low   close     volume   \n",
       "time                                                                      \n",
       "2015-08-07 00:00:00-04:00  109.14  109.2750  109.035  109.21  2041167.0   \n",
       "2015-08-10 00:00:00-04:00  109.15  109.1700  108.920  109.06  1149778.0   \n",
       "2015-08-11 00:00:00-04:00  109.42  109.5765  109.284  109.42  1420907.0   \n",
       "2015-08-12 00:00:00-04:00  109.55  109.7100  109.350  109.36  1468979.0   \n",
       "2015-08-13 00:00:00-04:00  109.36  109.3651  109.110  109.15  1465173.0   \n",
       "\n",
       "                                           SPY                          \\\n",
       "                          daily_return    open    high     low   close   \n",
       "time                                                                     \n",
       "2015-08-07 00:00:00-04:00          NaN  208.16  208.34  206.87  207.93   \n",
       "2015-08-10 00:00:00-04:00    -0.001374  209.28  210.67  209.28  210.58   \n",
       "2015-08-11 00:00:00-04:00     0.003301  208.98  209.47  207.76  208.63   \n",
       "2015-08-12 00:00:00-04:00    -0.000548  207.11  209.14  205.36  208.89   \n",
       "2015-08-13 00:00:00-04:00    -0.001920  208.73  209.55  208.01  208.63   \n",
       "\n",
       "                                                   \n",
       "                              volume daily_return  \n",
       "time                                               \n",
       "2015-08-07 00:00:00-04:00   87669782          NaN  \n",
       "2015-08-10 00:00:00-04:00   66755890     0.012745  \n",
       "2015-08-11 00:00:00-04:00   88424557    -0.009260  \n",
       "2015-08-12 00:00:00-04:00  136171450     0.001246  \n",
       "2015-08-13 00:00:00-04:00   77197796    -0.001245  "
      ]
     },
     "execution_count": 21,
     "metadata": {},
     "output_type": "execute_result"
    }
   ],
   "source": [
    "# Printing the simulation input data\n",
    "MC_thirty_year.portfolio_data.head()"
   ]
  },
  {
   "cell_type": "code",
   "execution_count": 22,
   "metadata": {},
   "outputs": [
    {
     "name": "stdout",
     "output_type": "stream",
     "text": [
      "Running Monte Carlo simulation number 0.\n",
      "Running Monte Carlo simulation number 10.\n",
      "Running Monte Carlo simulation number 20.\n",
      "Running Monte Carlo simulation number 30.\n",
      "Running Monte Carlo simulation number 40.\n",
      "Running Monte Carlo simulation number 50.\n",
      "Running Monte Carlo simulation number 60.\n",
      "Running Monte Carlo simulation number 70.\n",
      "Running Monte Carlo simulation number 80.\n",
      "Running Monte Carlo simulation number 90.\n",
      "Running Monte Carlo simulation number 100.\n",
      "Running Monte Carlo simulation number 110.\n",
      "Running Monte Carlo simulation number 120.\n",
      "Running Monte Carlo simulation number 130.\n",
      "Running Monte Carlo simulation number 140.\n",
      "Running Monte Carlo simulation number 150.\n",
      "Running Monte Carlo simulation number 160.\n",
      "Running Monte Carlo simulation number 170.\n",
      "Running Monte Carlo simulation number 180.\n",
      "Running Monte Carlo simulation number 190.\n",
      "Running Monte Carlo simulation number 200.\n",
      "Running Monte Carlo simulation number 210.\n",
      "Running Monte Carlo simulation number 220.\n",
      "Running Monte Carlo simulation number 230.\n",
      "Running Monte Carlo simulation number 240.\n",
      "Running Monte Carlo simulation number 250.\n",
      "Running Monte Carlo simulation number 260.\n",
      "Running Monte Carlo simulation number 270.\n",
      "Running Monte Carlo simulation number 280.\n",
      "Running Monte Carlo simulation number 290.\n",
      "Running Monte Carlo simulation number 300.\n",
      "Running Monte Carlo simulation number 310.\n",
      "Running Monte Carlo simulation number 320.\n",
      "Running Monte Carlo simulation number 330.\n",
      "Running Monte Carlo simulation number 340.\n",
      "Running Monte Carlo simulation number 350.\n",
      "Running Monte Carlo simulation number 360.\n",
      "Running Monte Carlo simulation number 370.\n",
      "Running Monte Carlo simulation number 380.\n",
      "Running Monte Carlo simulation number 390.\n",
      "Running Monte Carlo simulation number 400.\n",
      "Running Monte Carlo simulation number 410.\n",
      "Running Monte Carlo simulation number 420.\n",
      "Running Monte Carlo simulation number 430.\n",
      "Running Monte Carlo simulation number 440.\n",
      "Running Monte Carlo simulation number 450.\n",
      "Running Monte Carlo simulation number 460.\n",
      "Running Monte Carlo simulation number 470.\n",
      "Running Monte Carlo simulation number 480.\n",
      "Running Monte Carlo simulation number 490.\n"
     ]
    },
    {
     "data": {
      "text/html": [
       "<div>\n",
       "<style scoped>\n",
       "    .dataframe tbody tr th:only-of-type {\n",
       "        vertical-align: middle;\n",
       "    }\n",
       "\n",
       "    .dataframe tbody tr th {\n",
       "        vertical-align: top;\n",
       "    }\n",
       "\n",
       "    .dataframe thead th {\n",
       "        text-align: right;\n",
       "    }\n",
       "</style>\n",
       "<table border=\"1\" class=\"dataframe\">\n",
       "  <thead>\n",
       "    <tr style=\"text-align: right;\">\n",
       "      <th></th>\n",
       "      <th>0</th>\n",
       "      <th>1</th>\n",
       "      <th>2</th>\n",
       "      <th>3</th>\n",
       "      <th>4</th>\n",
       "      <th>5</th>\n",
       "      <th>6</th>\n",
       "      <th>7</th>\n",
       "      <th>8</th>\n",
       "      <th>9</th>\n",
       "      <th>...</th>\n",
       "      <th>490</th>\n",
       "      <th>491</th>\n",
       "      <th>492</th>\n",
       "      <th>493</th>\n",
       "      <th>494</th>\n",
       "      <th>495</th>\n",
       "      <th>496</th>\n",
       "      <th>497</th>\n",
       "      <th>498</th>\n",
       "      <th>499</th>\n",
       "    </tr>\n",
       "  </thead>\n",
       "  <tbody>\n",
       "    <tr>\n",
       "      <th>0</th>\n",
       "      <td>1.000000</td>\n",
       "      <td>1.000000</td>\n",
       "      <td>1.000000</td>\n",
       "      <td>1.000000</td>\n",
       "      <td>1.000000</td>\n",
       "      <td>1.000000</td>\n",
       "      <td>1.000000</td>\n",
       "      <td>1.000000</td>\n",
       "      <td>1.000000</td>\n",
       "      <td>1.000000</td>\n",
       "      <td>...</td>\n",
       "      <td>1.000000</td>\n",
       "      <td>1.000000</td>\n",
       "      <td>1.000000</td>\n",
       "      <td>1.000000</td>\n",
       "      <td>1.000000</td>\n",
       "      <td>1.000000</td>\n",
       "      <td>1.000000</td>\n",
       "      <td>1.000000</td>\n",
       "      <td>1.000000</td>\n",
       "      <td>1.000000</td>\n",
       "    </tr>\n",
       "    <tr>\n",
       "      <th>1</th>\n",
       "      <td>1.006851</td>\n",
       "      <td>0.990349</td>\n",
       "      <td>0.990705</td>\n",
       "      <td>0.997119</td>\n",
       "      <td>0.989762</td>\n",
       "      <td>1.007583</td>\n",
       "      <td>0.989546</td>\n",
       "      <td>1.004442</td>\n",
       "      <td>0.995171</td>\n",
       "      <td>0.990533</td>\n",
       "      <td>...</td>\n",
       "      <td>0.988969</td>\n",
       "      <td>0.995862</td>\n",
       "      <td>1.000646</td>\n",
       "      <td>1.001172</td>\n",
       "      <td>1.002924</td>\n",
       "      <td>0.994999</td>\n",
       "      <td>1.002426</td>\n",
       "      <td>1.006343</td>\n",
       "      <td>1.020343</td>\n",
       "      <td>1.005463</td>\n",
       "    </tr>\n",
       "    <tr>\n",
       "      <th>2</th>\n",
       "      <td>1.002379</td>\n",
       "      <td>0.993346</td>\n",
       "      <td>0.994709</td>\n",
       "      <td>0.996805</td>\n",
       "      <td>0.996195</td>\n",
       "      <td>1.005490</td>\n",
       "      <td>0.992116</td>\n",
       "      <td>1.017706</td>\n",
       "      <td>1.000741</td>\n",
       "      <td>0.992706</td>\n",
       "      <td>...</td>\n",
       "      <td>0.986597</td>\n",
       "      <td>0.995990</td>\n",
       "      <td>0.999526</td>\n",
       "      <td>0.999636</td>\n",
       "      <td>0.999408</td>\n",
       "      <td>0.988408</td>\n",
       "      <td>0.987404</td>\n",
       "      <td>1.002638</td>\n",
       "      <td>1.013521</td>\n",
       "      <td>1.011781</td>\n",
       "    </tr>\n",
       "    <tr>\n",
       "      <th>3</th>\n",
       "      <td>1.004300</td>\n",
       "      <td>0.983007</td>\n",
       "      <td>0.994522</td>\n",
       "      <td>1.003833</td>\n",
       "      <td>1.008911</td>\n",
       "      <td>1.009314</td>\n",
       "      <td>0.998942</td>\n",
       "      <td>1.020294</td>\n",
       "      <td>0.993468</td>\n",
       "      <td>0.991481</td>\n",
       "      <td>...</td>\n",
       "      <td>0.986550</td>\n",
       "      <td>0.997510</td>\n",
       "      <td>1.005594</td>\n",
       "      <td>0.997783</td>\n",
       "      <td>0.995140</td>\n",
       "      <td>0.983898</td>\n",
       "      <td>0.999767</td>\n",
       "      <td>1.023239</td>\n",
       "      <td>1.011149</td>\n",
       "      <td>1.012135</td>\n",
       "    </tr>\n",
       "    <tr>\n",
       "      <th>4</th>\n",
       "      <td>1.000499</td>\n",
       "      <td>0.979307</td>\n",
       "      <td>1.000324</td>\n",
       "      <td>1.020367</td>\n",
       "      <td>1.023085</td>\n",
       "      <td>1.008090</td>\n",
       "      <td>1.001662</td>\n",
       "      <td>1.020024</td>\n",
       "      <td>1.005330</td>\n",
       "      <td>0.983330</td>\n",
       "      <td>...</td>\n",
       "      <td>0.989185</td>\n",
       "      <td>0.999397</td>\n",
       "      <td>1.008262</td>\n",
       "      <td>0.998878</td>\n",
       "      <td>0.994524</td>\n",
       "      <td>0.991222</td>\n",
       "      <td>1.003985</td>\n",
       "      <td>1.012607</td>\n",
       "      <td>1.025525</td>\n",
       "      <td>1.015696</td>\n",
       "    </tr>\n",
       "    <tr>\n",
       "      <th>...</th>\n",
       "      <td>...</td>\n",
       "      <td>...</td>\n",
       "      <td>...</td>\n",
       "      <td>...</td>\n",
       "      <td>...</td>\n",
       "      <td>...</td>\n",
       "      <td>...</td>\n",
       "      <td>...</td>\n",
       "      <td>...</td>\n",
       "      <td>...</td>\n",
       "      <td>...</td>\n",
       "      <td>...</td>\n",
       "      <td>...</td>\n",
       "      <td>...</td>\n",
       "      <td>...</td>\n",
       "      <td>...</td>\n",
       "      <td>...</td>\n",
       "      <td>...</td>\n",
       "      <td>...</td>\n",
       "      <td>...</td>\n",
       "      <td>...</td>\n",
       "    </tr>\n",
       "    <tr>\n",
       "      <th>7556</th>\n",
       "      <td>11.091897</td>\n",
       "      <td>3.060421</td>\n",
       "      <td>7.111172</td>\n",
       "      <td>8.500297</td>\n",
       "      <td>21.547030</td>\n",
       "      <td>7.481923</td>\n",
       "      <td>4.897317</td>\n",
       "      <td>11.028216</td>\n",
       "      <td>5.658220</td>\n",
       "      <td>11.079394</td>\n",
       "      <td>...</td>\n",
       "      <td>4.968464</td>\n",
       "      <td>1.684955</td>\n",
       "      <td>7.089428</td>\n",
       "      <td>6.303798</td>\n",
       "      <td>4.936729</td>\n",
       "      <td>4.125127</td>\n",
       "      <td>15.626906</td>\n",
       "      <td>12.747876</td>\n",
       "      <td>3.658753</td>\n",
       "      <td>2.932261</td>\n",
       "    </tr>\n",
       "    <tr>\n",
       "      <th>7557</th>\n",
       "      <td>11.173477</td>\n",
       "      <td>3.080390</td>\n",
       "      <td>7.233297</td>\n",
       "      <td>8.592533</td>\n",
       "      <td>21.398579</td>\n",
       "      <td>7.534075</td>\n",
       "      <td>4.931253</td>\n",
       "      <td>11.012721</td>\n",
       "      <td>5.664200</td>\n",
       "      <td>10.986284</td>\n",
       "      <td>...</td>\n",
       "      <td>4.955171</td>\n",
       "      <td>1.680028</td>\n",
       "      <td>7.081581</td>\n",
       "      <td>6.334592</td>\n",
       "      <td>4.844065</td>\n",
       "      <td>4.159290</td>\n",
       "      <td>15.714162</td>\n",
       "      <td>12.811186</td>\n",
       "      <td>3.669182</td>\n",
       "      <td>2.926338</td>\n",
       "    </tr>\n",
       "    <tr>\n",
       "      <th>7558</th>\n",
       "      <td>11.089832</td>\n",
       "      <td>3.093203</td>\n",
       "      <td>7.305264</td>\n",
       "      <td>8.578668</td>\n",
       "      <td>21.326344</td>\n",
       "      <td>7.609450</td>\n",
       "      <td>4.928717</td>\n",
       "      <td>11.141688</td>\n",
       "      <td>5.681758</td>\n",
       "      <td>11.047027</td>\n",
       "      <td>...</td>\n",
       "      <td>4.940433</td>\n",
       "      <td>1.679772</td>\n",
       "      <td>7.179117</td>\n",
       "      <td>6.377458</td>\n",
       "      <td>4.865902</td>\n",
       "      <td>4.135955</td>\n",
       "      <td>15.913994</td>\n",
       "      <td>12.915649</td>\n",
       "      <td>3.641108</td>\n",
       "      <td>2.903920</td>\n",
       "    </tr>\n",
       "    <tr>\n",
       "      <th>7559</th>\n",
       "      <td>11.215589</td>\n",
       "      <td>3.104086</td>\n",
       "      <td>7.348406</td>\n",
       "      <td>8.513752</td>\n",
       "      <td>21.526379</td>\n",
       "      <td>7.590222</td>\n",
       "      <td>4.894427</td>\n",
       "      <td>11.130375</td>\n",
       "      <td>5.690028</td>\n",
       "      <td>11.003291</td>\n",
       "      <td>...</td>\n",
       "      <td>4.976665</td>\n",
       "      <td>1.679175</td>\n",
       "      <td>7.043344</td>\n",
       "      <td>6.358832</td>\n",
       "      <td>4.892197</td>\n",
       "      <td>4.073845</td>\n",
       "      <td>15.876629</td>\n",
       "      <td>12.813813</td>\n",
       "      <td>3.647022</td>\n",
       "      <td>2.875867</td>\n",
       "    </tr>\n",
       "    <tr>\n",
       "      <th>7560</th>\n",
       "      <td>11.226073</td>\n",
       "      <td>3.116816</td>\n",
       "      <td>7.311146</td>\n",
       "      <td>8.505165</td>\n",
       "      <td>21.280994</td>\n",
       "      <td>7.635394</td>\n",
       "      <td>4.863044</td>\n",
       "      <td>11.038570</td>\n",
       "      <td>5.715970</td>\n",
       "      <td>11.101684</td>\n",
       "      <td>...</td>\n",
       "      <td>4.947427</td>\n",
       "      <td>1.659007</td>\n",
       "      <td>7.064813</td>\n",
       "      <td>6.438525</td>\n",
       "      <td>4.892055</td>\n",
       "      <td>4.051822</td>\n",
       "      <td>15.956521</td>\n",
       "      <td>12.741179</td>\n",
       "      <td>3.656453</td>\n",
       "      <td>2.900425</td>\n",
       "    </tr>\n",
       "  </tbody>\n",
       "</table>\n",
       "<p>7561 rows × 500 columns</p>\n",
       "</div>"
      ],
      "text/plain": [
       "            0         1         2         3          4         5         6    \\\n",
       "0      1.000000  1.000000  1.000000  1.000000   1.000000  1.000000  1.000000   \n",
       "1      1.006851  0.990349  0.990705  0.997119   0.989762  1.007583  0.989546   \n",
       "2      1.002379  0.993346  0.994709  0.996805   0.996195  1.005490  0.992116   \n",
       "3      1.004300  0.983007  0.994522  1.003833   1.008911  1.009314  0.998942   \n",
       "4      1.000499  0.979307  1.000324  1.020367   1.023085  1.008090  1.001662   \n",
       "...         ...       ...       ...       ...        ...       ...       ...   \n",
       "7556  11.091897  3.060421  7.111172  8.500297  21.547030  7.481923  4.897317   \n",
       "7557  11.173477  3.080390  7.233297  8.592533  21.398579  7.534075  4.931253   \n",
       "7558  11.089832  3.093203  7.305264  8.578668  21.326344  7.609450  4.928717   \n",
       "7559  11.215589  3.104086  7.348406  8.513752  21.526379  7.590222  4.894427   \n",
       "7560  11.226073  3.116816  7.311146  8.505165  21.280994  7.635394  4.863044   \n",
       "\n",
       "            7         8          9    ...       490       491       492  \\\n",
       "0      1.000000  1.000000   1.000000  ...  1.000000  1.000000  1.000000   \n",
       "1      1.004442  0.995171   0.990533  ...  0.988969  0.995862  1.000646   \n",
       "2      1.017706  1.000741   0.992706  ...  0.986597  0.995990  0.999526   \n",
       "3      1.020294  0.993468   0.991481  ...  0.986550  0.997510  1.005594   \n",
       "4      1.020024  1.005330   0.983330  ...  0.989185  0.999397  1.008262   \n",
       "...         ...       ...        ...  ...       ...       ...       ...   \n",
       "7556  11.028216  5.658220  11.079394  ...  4.968464  1.684955  7.089428   \n",
       "7557  11.012721  5.664200  10.986284  ...  4.955171  1.680028  7.081581   \n",
       "7558  11.141688  5.681758  11.047027  ...  4.940433  1.679772  7.179117   \n",
       "7559  11.130375  5.690028  11.003291  ...  4.976665  1.679175  7.043344   \n",
       "7560  11.038570  5.715970  11.101684  ...  4.947427  1.659007  7.064813   \n",
       "\n",
       "           493       494       495        496        497       498       499  \n",
       "0     1.000000  1.000000  1.000000   1.000000   1.000000  1.000000  1.000000  \n",
       "1     1.001172  1.002924  0.994999   1.002426   1.006343  1.020343  1.005463  \n",
       "2     0.999636  0.999408  0.988408   0.987404   1.002638  1.013521  1.011781  \n",
       "3     0.997783  0.995140  0.983898   0.999767   1.023239  1.011149  1.012135  \n",
       "4     0.998878  0.994524  0.991222   1.003985   1.012607  1.025525  1.015696  \n",
       "...        ...       ...       ...        ...        ...       ...       ...  \n",
       "7556  6.303798  4.936729  4.125127  15.626906  12.747876  3.658753  2.932261  \n",
       "7557  6.334592  4.844065  4.159290  15.714162  12.811186  3.669182  2.926338  \n",
       "7558  6.377458  4.865902  4.135955  15.913994  12.915649  3.641108  2.903920  \n",
       "7559  6.358832  4.892197  4.073845  15.876629  12.813813  3.647022  2.875867  \n",
       "7560  6.438525  4.892055  4.051822  15.956521  12.741179  3.656453  2.900425  \n",
       "\n",
       "[7561 rows x 500 columns]"
      ]
     },
     "execution_count": 22,
     "metadata": {},
     "output_type": "execute_result"
    }
   ],
   "source": [
    "# Running a Monte Carlo simulation to forecast 30 years cumulative returns\n",
    "\n",
    "MC_thirty_year.calc_cumulative_return()\n",
    "\n"
   ]
  },
  {
   "cell_type": "code",
   "execution_count": 23,
   "metadata": {},
   "outputs": [
    {
     "data": {
      "image/png": "[encoded data removed]",
      "text/plain": [
       "<Figure size 432x288 with 1 Axes>"
      ]
     },
     "metadata": {
      "needs_background": "light"
     },
     "output_type": "display_data"
    }
   ],
   "source": [
    "# Plot simulation outcomes\n",
    "line_plot = MC_thirty_year.plot_simulation()\n",
    "\n",
    "# Save the plot for future usage\n",
    "line_plot.get_figure().savefig(\"MC_thirty_year_sim_plot.png\", bbox_inches = \"tight\")"
   ]
  },
  {
   "cell_type": "code",
   "execution_count": 24,
   "metadata": {},
   "outputs": [
    {
     "data": {
      "image/png": "[encoded data removed]",
      "text/plain": [
       "<Figure size 432x288 with 1 Axes>"
      ]
     },
     "metadata": {
      "needs_background": "light"
     },
     "output_type": "display_data"
    }
   ],
   "source": [
    "# Plot probability distribution and confidence intervals\n",
    "dist_plot = MC_thirty_year.plot_distribution()\n",
    "\n",
    "# Save the plot for future usage\n",
    "dist_plot.get_figure().savefig(\"MC_thirty_year_dist_plot.png\", bbox_inches = \"tight\")"
   ]
  },
  {
   "cell_type": "markdown",
   "metadata": {},
   "source": [
    "### Retirement Analysis"
   ]
  },
  {
   "cell_type": "code",
   "execution_count": 25,
   "metadata": {},
   "outputs": [
    {
     "name": "stdout",
     "output_type": "stream",
     "text": [
      "count           500.000000\n",
      "mean             10.163831\n",
      "std               9.181578\n",
      "min               1.040527\n",
      "25%               4.994429\n",
      "50%               7.784723\n",
      "75%              12.754371\n",
      "max             145.595787\n",
      "95% CI Lower      2.488282\n",
      "95% CI Upper     28.391318\n",
      "Name: 7560, dtype: float64\n"
     ]
    }
   ],
   "source": [
    "# Fetch summary statistics from the Monte Carlo simulation results\n",
    "tbl = MC_thirty_year.summarize_cumulative_return()\n",
    "\n",
    "# Print summary statistics\n",
    "print(tbl)"
   ]
  },
  {
   "cell_type": "markdown",
   "metadata": {},
   "source": [
    "### Calculate the expected portfolio return at the 95% lower and upper confidence intervals based on a `$20,000` initial investment."
   ]
  },
  {
   "cell_type": "code",
   "execution_count": 26,
   "metadata": {},
   "outputs": [
    {
     "name": "stdout",
     "output_type": "stream",
     "text": [
      "There is a 95% chance that an initial investment of $20000 in the portfolio over the next 30 years will end within in the range of $49765.63 and $567826.37\n"
     ]
    }
   ],
   "source": [
    "# Set initial investment\n",
    "initial_investment = 20000\n",
    "\n",
    "# Use the lower and upper `95%` confidence intervals to calculate the range of the possible outcomes of our $20,000\n",
    "ci_lower = round(tbl[8] * 20000, 2)\n",
    "ci_upper = round(tbl[9] * 20000, 2)\n",
    "\n",
    "# Print results\n",
    "print(f\"There is a 95% chance that an initial investment of ${initial_investment} in the portfolio\"\n",
    "      f\" over the next 30 years will end within in the range of\"\n",
    "      f\" ${ci_lower} and ${ci_upper}\")"
   ]
  },
  {
   "cell_type": "markdown",
   "metadata": {},
   "source": [
    "### Calculate the expected portfolio return at the `95%` lower and upper confidence intervals based on a `50%` increase in the initial investment."
   ]
  },
  {
   "cell_type": "code",
   "execution_count": 27,
   "metadata": {},
   "outputs": [
    {
     "name": "stdout",
     "output_type": "stream",
     "text": [
      "There is a 95% chance that an initial investment of $30000.0 in the portfolio over the next 30 years will end within in the range of $74648.45 and $851739.55\n"
     ]
    }
   ],
   "source": [
    "# Set initial investment\n",
    "initial_investment = 20000 * 1.5\n",
    "\n",
    "# Use the lower and upper `95%` confidence intervals to calculate the range of the possible outcomes of our $30,000\n",
    "ci_lower = round(tbl[8] * 20000 * 1.5, 2)\n",
    "ci_upper = round(tbl[9] * 20000 * 1.5, 2)\n",
    "\n",
    "# Print results\n",
    "print(f\"There is a 95% chance that an initial investment of ${initial_investment} in the portfolio\"\n",
    "      f\" over the next 30 years will end within in the range of\"\n",
    "      f\" ${ci_lower} and ${ci_upper}\")"
   ]
  },
  {
   "cell_type": "markdown",
   "metadata": {},
   "source": [
    "## Optional Challenge - Early Retirement\n",
    "\n",
    "\n",
    "### Five Years Retirement Option"
   ]
  },
  {
   "cell_type": "code",
   "execution_count": 28,
   "metadata": {},
   "outputs": [],
   "source": [
    "# Configuring a Monte Carlo simulation to forecast 5 years cumulative returns\n"
   ]
  },
  {
   "cell_type": "code",
   "execution_count": 29,
   "metadata": {},
   "outputs": [],
   "source": [
    "# Running a Monte Carlo simulation to forecast 5 years cumulative returns\n",
    "# YOUR CODE HERE!"
   ]
  },
  {
   "cell_type": "code",
   "execution_count": 30,
   "metadata": {},
   "outputs": [],
   "source": [
    "# Plot simulation outcomes\n",
    "# YOUR CODE HERE!"
   ]
  },
  {
   "cell_type": "code",
   "execution_count": 31,
   "metadata": {},
   "outputs": [],
   "source": [
    "# Plot probability distribution and confidence intervals\n",
    "# YOUR CODE HERE!"
   ]
  },
  {
   "cell_type": "code",
   "execution_count": 32,
   "metadata": {},
   "outputs": [],
   "source": [
    "# Fetch summary statistics from the Monte Carlo simulation results\n",
    "# YOUR CODE HERE!\n",
    "\n",
    "# Print summary statistics\n",
    "# YOUR CODE HERE!"
   ]
  },
  {
   "cell_type": "code",
   "execution_count": 33,
   "metadata": {},
   "outputs": [
    {
     "ename": "NameError",
     "evalue": "name 'ci_lower_five' is not defined",
     "output_type": "error",
     "traceback": [
      "\u001b[1;31m---------------------------------------------------------------------------\u001b[0m",
      "\u001b[1;31mNameError\u001b[0m                                 Traceback (most recent call last)",
      "\u001b[1;32m<ipython-input-33-d56b774f48d0>\u001b[0m in \u001b[0;36m<module>\u001b[1;34m\u001b[0m\n\u001b[0;32m      6\u001b[0m \u001b[1;33m\u001b[0m\u001b[0m\n\u001b[0;32m      7\u001b[0m \u001b[1;31m# Print results\u001b[0m\u001b[1;33m\u001b[0m\u001b[1;33m\u001b[0m\u001b[1;33m\u001b[0m\u001b[0m\n\u001b[1;32m----> 8\u001b[1;33m print(f\"There is a 95% chance that an initial investment of ${initial_investment} in the portfolio\"\n\u001b[0m\u001b[0;32m      9\u001b[0m       \u001b[1;34mf\" over the next 5 years will end within in the range of\"\u001b[0m\u001b[1;33m\u001b[0m\u001b[1;33m\u001b[0m\u001b[0m\n\u001b[0;32m     10\u001b[0m       f\" ${ci_lower_five} and ${ci_upper_five}\")\n",
      "\u001b[1;31mNameError\u001b[0m: name 'ci_lower_five' is not defined"
     ]
    }
   ],
   "source": [
    "# Set initial investment\n",
    "# YOUR CODE HERE!\n",
    "\n",
    "# Use the lower and upper `95%` confidence intervals to calculate the range of the possible outcomes of our $60,000\n",
    "# YOUR CODE HERE!\n",
    "\n",
    "# Print results\n",
    "print(f\"There is a 95% chance that an initial investment of ${initial_investment} in the portfolio\"\n",
    "      f\" over the next 5 years will end within in the range of\"\n",
    "      f\" ${ci_lower_five} and ${ci_upper_five}\")"
   ]
  },
  {
   "cell_type": "markdown",
   "metadata": {},
   "source": [
    "### Ten Years Retirement Option"
   ]
  },
  {
   "cell_type": "code",
   "execution_count": null,
   "metadata": {},
   "outputs": [],
   "source": [
    "# Configuring a Monte Carlo simulation to forecast 10 years cumulative returns\n",
    "# YOUR CODE HERE!"
   ]
  },
  {
   "cell_type": "code",
   "execution_count": null,
   "metadata": {},
   "outputs": [],
   "source": [
    "# Running a Monte Carlo simulation to forecast 10 years cumulative returns\n",
    "# YOUR CODE HERE!"
   ]
  },
  {
   "cell_type": "code",
   "execution_count": null,
   "metadata": {},
   "outputs": [],
   "source": [
    "# Plot simulation outcomes\n",
    "# YOUR CODE HERE!"
   ]
  },
  {
   "cell_type": "code",
   "execution_count": null,
   "metadata": {},
   "outputs": [],
   "source": [
    "# Plot probability distribution and confidence intervals\n",
    "# YOUR CODE HERE!"
   ]
  },
  {
   "cell_type": "code",
   "execution_count": null,
   "metadata": {},
   "outputs": [],
   "source": [
    "# Fetch summary statistics from the Monte Carlo simulation results\n",
    "# YOUR CODE HERE!\n",
    "\n",
    "# Print summary statistics\n",
    "# YOUR CODE HERE!"
   ]
  },
  {
   "cell_type": "code",
   "execution_count": null,
   "metadata": {},
   "outputs": [],
   "source": [
    "# Set initial investment\n",
    "# YOUR CODE HERE!\n",
    "\n",
    "# Use the lower and upper `95%` confidence intervals to calculate the range of the possible outcomes of our $60,000\n",
    "# YOUR CODE HERE!\n",
    "\n",
    "# Print results\n",
    "print(f\"There is a 95% chance that an initial investment of ${initial_investment} in the portfolio\"\n",
    "      f\" over the next 10 years will end within in the range of\"\n",
    "      f\" ${ci_lower_ten} and ${ci_upper_ten}\")"
   ]
  },
  {
   "cell_type": "code",
   "execution_count": null,
   "metadata": {},
   "outputs": [],
   "source": []
  },
  {
   "cell_type": "code",
   "execution_count": null,
   "metadata": {},
   "outputs": [],
   "source": []
  }
 ],
 "metadata": {
  "kernelspec": {
   "display_name": "Python 3",
   "language": "python",
   "name": "python3"
  },
  "language_info": {
   "codemirror_mode": {
    "name": "ipython",
    "version": 3
   },
   "file_extension": ".py",
   "mimetype": "text/x-python",
   "name": "python",
   "nbconvert_exporter": "python",
   "pygments_lexer": "ipython3",
   "version": "3.8.3"
  }
 },
 "nbformat": 4,
 "nbformat_minor": 4
}
